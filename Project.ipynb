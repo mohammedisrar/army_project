{
 "cells": [
  {
   "cell_type": "code",
   "execution_count": 16,
   "id": "3e2c30c1",
   "metadata": {},
   "outputs": [],
   "source": [
    "import pandas as pd\n",
    "import numpy as np\n",
    "import pickle\n",
    "import time"
   ]
  },
  {
   "cell_type": "code",
   "execution_count": 15,
   "id": "c8bfa227",
   "metadata": {},
   "outputs": [],
   "source": [
    "available_new = {'Table': 50,\n",
    " 'Chair': 150,\n",
    " 'Bed': 25.0,\n",
    " 'Rack': 75.0,\n",
    " 'Almirah': 70.0,\n",
    " 'Fan': 70.0,\n",
    " 'Geyser': 70.0,\n",
    " 'AC': 70.0,\n",
    " 'Refrigerator': 65.0,\n",
    " 'Water cooler': 70.0}"
   ]
  },
  {
   "cell_type": "code",
   "execution_count": 7,
   "id": "617fb3b8",
   "metadata": {},
   "outputs": [],
   "source": [
    "available_old = {'Table': 50,\n",
    " 'Chair': 150,\n",
    " 'Bed': 25.0,\n",
    " 'Rack': 75.0,\n",
    " 'Almirah': 70.0,\n",
    " 'Fan': 70.0,\n",
    " 'Geyser': 70.0,\n",
    " 'AC': 70.0,\n",
    " 'Refrigerator': 65.0,\n",
    " 'Water cooler': 70.0}"
   ]
  },
  {
   "cell_type": "code",
   "execution_count": 9,
   "id": "c13a5826",
   "metadata": {},
   "outputs": [
    {
     "name": "stdout",
     "output_type": "stream",
     "text": [
      "Which product ?table\n",
      "Which stock new or old? new\n",
      "Do you want to remove or add the ? add\n",
      "Enter how many are removed or added? 100\n"
     ]
    }
   ],
   "source": [
    "mod.function_execute()"
   ]
  },
  {
   "cell_type": "code",
   "execution_count": null,
   "id": "86856122",
   "metadata": {},
   "outputs": [],
   "source": [
    "available_old"
   ]
  },
  {
   "cell_type": "code",
   "execution_count": 10,
   "id": "6d07a7dd",
   "metadata": {},
   "outputs": [
    {
     "data": {
      "text/plain": [
       "{'Table': 150,\n",
       " 'Chair': 150,\n",
       " 'Bed': 25.0,\n",
       " 'Rack': 75.0,\n",
       " 'Almirah': 70.0,\n",
       " 'Fan': 70.0,\n",
       " 'Geyser': 70.0,\n",
       " 'AC': 70.0,\n",
       " 'Refrigerator': 65.0,\n",
       " 'Water cooler': 70.0}"
      ]
     },
     "execution_count": 10,
     "metadata": {},
     "output_type": "execute_result"
    }
   ],
   "source": [
    "available_new"
   ]
  },
  {
   "cell_type": "code",
   "execution_count": null,
   "id": "b489174b",
   "metadata": {},
   "outputs": [],
   "source": [
    "\n",
    "def function_execute():\n",
    "    a = input('Which product ?').title()\n",
    "    b = input('Which stock new or old? ')\n",
    "    d = input('Do you want to remove or add the ? ')\n",
    "    c = int(input('Enter how many are removed or added? '))\n",
    "    if d == 'remove':\n",
    "        if b == 'new':\n",
    "            if a in available_new:\n",
    "                try:\n",
    "                    exist = available_new[a]\n",
    "                except:\n",
    "                    print('First add the product in the list')\n",
    "                    return None\n",
    "                exist -= c\n",
    "                available_new.update({a:exist})\n",
    "            else:\n",
    "                print('The product not avaliable')\n",
    "        elif b == 'old':\n",
    "            if a in available_old:\n",
    "                try:\n",
    "                    exist = available_old[a]\n",
    "                except:\n",
    "                    print('First add the product in the list')\n",
    "                    return None\n",
    "                exist -= c\n",
    "                available_old.update({a:exist})\n",
    "            else:\n",
    "                print('The product not avaliable')\n",
    "        else:\n",
    "            print('enter valid stock')\n",
    "    elif d == 'add':\n",
    "        if b == 'new':\n",
    "            if a in available_new:\n",
    "                try:\n",
    "                    exist = available_new[a]\n",
    "                except:\n",
    "                    print('First add the product in the list')\n",
    "                    return None\n",
    "                exist += c\n",
    "                available_new.update({a:exist})\n",
    "            else:\n",
    "                print('The product not avaliable')\n",
    "        elif b == 'old':\n",
    "            if a in available_old:\n",
    "                try:\n",
    "                    exist = available_old[a]\n",
    "                except:\n",
    "                    print('First add the product in the list')\n",
    "                    return None\n",
    "                exist += c\n",
    "                available_old.update({a:exist})\n",
    "            else:\n",
    "                print('The product not avaliable')\n",
    "        else:\n",
    "            print('enter valid stock')\n",
    "\n",
    "function_execute()"
   ]
  },
  {
   "cell_type": "code",
   "execution_count": 18,
   "id": "a4178ab0",
   "metadata": {},
   "outputs": [
    {
     "name": "stdout",
     "output_type": "stream",
     "text": [
      "{'Table': 50, 'Chair': 150, 'Bed': 25.0, 'Rack': 75.0, 'Almirah': 70.0, 'Fan': 70.0, 'Geyser': 70.0, 'AC': 70.0, 'Refrigerator': 65.0, 'Water cooler': 70.0}\n"
     ]
    }
   ],
   "source": [
    "print(available_old)"
   ]
  },
  {
   "cell_type": "code",
   "execution_count": 19,
   "id": "e4b2e5ef",
   "metadata": {},
   "outputs": [
    {
     "name": "stdout",
     "output_type": "stream",
     "text": [
      "{'Table': 50, 'Chair': 150, 'Bed': 25.0, 'Rack': 75.0, 'Almirah': 70.0, 'Fan': 70.0, 'Geyser': 70.0, 'AC': 70.0, 'Refrigerator': 65.0, 'Water cooler': 70.0}\n"
     ]
    }
   ],
   "source": [
    "print(available_new)"
   ]
  },
  {
   "cell_type": "code",
   "execution_count": null,
   "id": "81f6fc78",
   "metadata": {},
   "outputs": [],
   "source": []
  },
  {
   "cell_type": "code",
   "execution_count": null,
   "id": "c9a734e4",
   "metadata": {},
   "outputs": [],
   "source": []
  },
  {
   "cell_type": "code",
   "execution_count": null,
   "id": "851f5be8",
   "metadata": {},
   "outputs": [],
   "source": []
  },
  {
   "cell_type": "code",
   "execution_count": null,
   "id": "fe954377",
   "metadata": {},
   "outputs": [],
   "source": []
  },
  {
   "cell_type": "code",
   "execution_count": null,
   "id": "7f0ffb62",
   "metadata": {},
   "outputs": [],
   "source": []
  },
  {
   "cell_type": "code",
   "execution_count": null,
   "id": "1714d433",
   "metadata": {},
   "outputs": [],
   "source": []
  },
  {
   "cell_type": "code",
   "execution_count": null,
   "id": "0780534b",
   "metadata": {},
   "outputs": [],
   "source": []
  },
  {
   "cell_type": "code",
   "execution_count": null,
   "id": "a4572f7a",
   "metadata": {},
   "outputs": [],
   "source": []
  },
  {
   "cell_type": "code",
   "execution_count": null,
   "id": "bc2556b5",
   "metadata": {},
   "outputs": [],
   "source": []
  },
  {
   "cell_type": "code",
   "execution_count": null,
   "id": "67d75d34",
   "metadata": {},
   "outputs": [],
   "source": []
  },
  {
   "cell_type": "code",
   "execution_count": 35,
   "id": "0621e06e",
   "metadata": {},
   "outputs": [],
   "source": [
    "import pandas as pd"
   ]
  },
  {
   "cell_type": "code",
   "execution_count": 108,
   "id": "3b8179af",
   "metadata": {},
   "outputs": [
    {
     "data": {
      "text/html": [
       "<div>\n",
       "<style scoped>\n",
       "    .dataframe tbody tr th:only-of-type {\n",
       "        vertical-align: middle;\n",
       "    }\n",
       "\n",
       "    .dataframe tbody tr th {\n",
       "        vertical-align: top;\n",
       "    }\n",
       "\n",
       "    .dataframe thead th {\n",
       "        text-align: right;\n",
       "    }\n",
       "</style>\n",
       "<table border=\"1\" class=\"dataframe\">\n",
       "  <thead>\n",
       "    <tr style=\"text-align: right;\">\n",
       "      <th></th>\n",
       "      <th>available_items</th>\n",
       "      <th>available_amount_old</th>\n",
       "      <th>available_amount_new</th>\n",
       "    </tr>\n",
       "  </thead>\n",
       "  <tbody>\n",
       "    <tr>\n",
       "      <th>0</th>\n",
       "      <td>TABLE</td>\n",
       "      <td>50</td>\n",
       "      <td>50</td>\n",
       "    </tr>\n",
       "    <tr>\n",
       "      <th>1</th>\n",
       "      <td>CHAIR</td>\n",
       "      <td>150</td>\n",
       "      <td>150</td>\n",
       "    </tr>\n",
       "    <tr>\n",
       "      <th>2</th>\n",
       "      <td>BED</td>\n",
       "      <td>25</td>\n",
       "      <td>25</td>\n",
       "    </tr>\n",
       "    <tr>\n",
       "      <th>3</th>\n",
       "      <td>RACK</td>\n",
       "      <td>75</td>\n",
       "      <td>75</td>\n",
       "    </tr>\n",
       "    <tr>\n",
       "      <th>4</th>\n",
       "      <td>ALMIRAH</td>\n",
       "      <td>70</td>\n",
       "      <td>70</td>\n",
       "    </tr>\n",
       "    <tr>\n",
       "      <th>5</th>\n",
       "      <td>FAN</td>\n",
       "      <td>70</td>\n",
       "      <td>70</td>\n",
       "    </tr>\n",
       "    <tr>\n",
       "      <th>6</th>\n",
       "      <td>GEYSER</td>\n",
       "      <td>70</td>\n",
       "      <td>70</td>\n",
       "    </tr>\n",
       "    <tr>\n",
       "      <th>7</th>\n",
       "      <td>AC</td>\n",
       "      <td>70</td>\n",
       "      <td>70</td>\n",
       "    </tr>\n",
       "    <tr>\n",
       "      <th>8</th>\n",
       "      <td>REFRIGERATOR</td>\n",
       "      <td>60</td>\n",
       "      <td>65</td>\n",
       "    </tr>\n",
       "    <tr>\n",
       "      <th>9</th>\n",
       "      <td>WATER COOLER</td>\n",
       "      <td>70</td>\n",
       "      <td>70</td>\n",
       "    </tr>\n",
       "  </tbody>\n",
       "</table>\n",
       "</div>"
      ],
      "text/plain": [
       "  available_items  available_amount_old  available_amount_new\n",
       "0           TABLE                    50                    50\n",
       "1           CHAIR                   150                   150\n",
       "2             BED                    25                    25\n",
       "3            RACK                    75                    75\n",
       "4         ALMIRAH                    70                    70\n",
       "5             FAN                    70                    70\n",
       "6          GEYSER                    70                    70\n",
       "7              AC                    70                    70\n",
       "8    REFRIGERATOR                    60                    65\n",
       "9    WATER COOLER                    70                    70"
      ]
     },
     "execution_count": 108,
     "metadata": {},
     "output_type": "execute_result"
    }
   ],
   "source": [
    "df = pd.read_csv('DATA.csv')\n",
    "df"
   ]
  },
  {
   "cell_type": "code",
   "execution_count": 120,
   "id": "9f204090",
   "metadata": {},
   "outputs": [
    {
     "data": {
      "text/plain": [
       "150"
      ]
     },
     "execution_count": 120,
     "metadata": {},
     "output_type": "execute_result"
    }
   ],
   "source": [
    "df.loc[(df['available_items'] == 'CHAIR')]['available_amount_old'].values[0]"
   ]
  },
  {
   "cell_type": "code",
   "execution_count": 123,
   "id": "df6c6a4c",
   "metadata": {},
   "outputs": [
    {
     "name": "stdout",
     "output_type": "stream",
     "text": [
      "Which product ? : almirah\n",
      "Which stock new or old? : new\n",
      "Do you want to remove or add the ? : remove\n",
      "Enter how many are removed or added? : 10\n"
     ]
    }
   ],
   "source": [
    "def function_execute():\n",
    "    a = input('Which product ? : ').upper()\n",
    "    b = input('Which stock new or old? : ').lower()\n",
    "    d = input('Do you want to remove or add the ? : ').lower()\n",
    "    c = int(input('Enter how many are removed or added? : '))\n",
    "    if d == 'remove':\n",
    "        if b == 'new':\n",
    "            if a in df['available_items'].values:\n",
    "                try:\n",
    "                    exist = df.loc[(df['available_items'] == a)]['available_amount_new'].values[0]\n",
    "                except:\n",
    "                    print('First add the product in the list')\n",
    "                    return None\n",
    "                exist -= c\n",
    "                df.at[df.loc[df['available_items'] == a].index[0] , 'available_amount_new']  = exist\n",
    "            else:\n",
    "                print('The product not avaliable')\n",
    "        elif b == 'old':\n",
    "            if a in df['available_items'].values:\n",
    "                try:\n",
    "                    exist = df.loc[(df['available_items'] == a)]['available_amount_old'].values[0]\n",
    "                except:\n",
    "                    print('First add the product in the list')\n",
    "                    return None\n",
    "                exist -= c\n",
    "                df.at[df.loc[df['available_items'] == a].index[0] , 'available_amount_old']  = exist\n",
    "            else:\n",
    "                print('The product not avaliable')\n",
    "        else:\n",
    "            print('enter valid stock')\n",
    "    elif d == 'add':\n",
    "        if b == 'new':\n",
    "            if a in df['available_items'].values:\n",
    "                try:\n",
    "                    exist = df.loc[(df['available_items'] == a)]['available_amount_new'].values[0]\n",
    "                except:\n",
    "                    print('First add the product in the list')\n",
    "                    return None\n",
    "                exist += c\n",
    "                df.at[df.loc[df['available_items'] == a].index[0] , 'available_amount_new']  = exist\n",
    "            else:\n",
    "                print('The product not avaliable')\n",
    "        elif b == 'old':\n",
    "            if a in df['available_items'].values:\n",
    "                try:\n",
    "                    exist = df.loc[(df['available_items'] == a)]['available_amount_old'].values[0]\n",
    "                except:\n",
    "                    print('First add the product in the list')\n",
    "                    return None\n",
    "                exist += c\n",
    "                df.at[df.loc[df['available_items'] == a].index[0] , 'available_amount_old']  = exist\n",
    "            else:\n",
    "                print('The product not avaliable')\n",
    "        else:\n",
    "            print('enter valid stock')\n",
    "\n",
    "function_execute()"
   ]
  },
  {
   "cell_type": "code",
   "execution_count": 124,
   "id": "4bf2619b",
   "metadata": {},
   "outputs": [
    {
     "data": {
      "text/html": [
       "<div>\n",
       "<style scoped>\n",
       "    .dataframe tbody tr th:only-of-type {\n",
       "        vertical-align: middle;\n",
       "    }\n",
       "\n",
       "    .dataframe tbody tr th {\n",
       "        vertical-align: top;\n",
       "    }\n",
       "\n",
       "    .dataframe thead th {\n",
       "        text-align: right;\n",
       "    }\n",
       "</style>\n",
       "<table border=\"1\" class=\"dataframe\">\n",
       "  <thead>\n",
       "    <tr style=\"text-align: right;\">\n",
       "      <th></th>\n",
       "      <th>available_items</th>\n",
       "      <th>available_amount_old</th>\n",
       "      <th>available_amount_new</th>\n",
       "    </tr>\n",
       "  </thead>\n",
       "  <tbody>\n",
       "    <tr>\n",
       "      <th>0</th>\n",
       "      <td>TABLE</td>\n",
       "      <td>50</td>\n",
       "      <td>150</td>\n",
       "    </tr>\n",
       "    <tr>\n",
       "      <th>1</th>\n",
       "      <td>CHAIR</td>\n",
       "      <td>250</td>\n",
       "      <td>150</td>\n",
       "    </tr>\n",
       "    <tr>\n",
       "      <th>2</th>\n",
       "      <td>BED</td>\n",
       "      <td>25</td>\n",
       "      <td>25</td>\n",
       "    </tr>\n",
       "    <tr>\n",
       "      <th>3</th>\n",
       "      <td>RACK</td>\n",
       "      <td>75</td>\n",
       "      <td>75</td>\n",
       "    </tr>\n",
       "    <tr>\n",
       "      <th>4</th>\n",
       "      <td>ALMIRAH</td>\n",
       "      <td>70</td>\n",
       "      <td>60</td>\n",
       "    </tr>\n",
       "    <tr>\n",
       "      <th>5</th>\n",
       "      <td>FAN</td>\n",
       "      <td>70</td>\n",
       "      <td>70</td>\n",
       "    </tr>\n",
       "    <tr>\n",
       "      <th>6</th>\n",
       "      <td>GEYSER</td>\n",
       "      <td>70</td>\n",
       "      <td>70</td>\n",
       "    </tr>\n",
       "    <tr>\n",
       "      <th>7</th>\n",
       "      <td>AC</td>\n",
       "      <td>70</td>\n",
       "      <td>70</td>\n",
       "    </tr>\n",
       "    <tr>\n",
       "      <th>8</th>\n",
       "      <td>REFRIGERATOR</td>\n",
       "      <td>60</td>\n",
       "      <td>65</td>\n",
       "    </tr>\n",
       "    <tr>\n",
       "      <th>9</th>\n",
       "      <td>WATER COOLER</td>\n",
       "      <td>70</td>\n",
       "      <td>70</td>\n",
       "    </tr>\n",
       "  </tbody>\n",
       "</table>\n",
       "</div>"
      ],
      "text/plain": [
       "  available_items  available_amount_old  available_amount_new\n",
       "0           TABLE                    50                   150\n",
       "1           CHAIR                   250                   150\n",
       "2             BED                    25                    25\n",
       "3            RACK                    75                    75\n",
       "4         ALMIRAH                    70                    60\n",
       "5             FAN                    70                    70\n",
       "6          GEYSER                    70                    70\n",
       "7              AC                    70                    70\n",
       "8    REFRIGERATOR                    60                    65\n",
       "9    WATER COOLER                    70                    70"
      ]
     },
     "execution_count": 124,
     "metadata": {},
     "output_type": "execute_result"
    }
   ],
   "source": [
    "df"
   ]
  },
  {
   "cell_type": "code",
   "execution_count": null,
   "id": "c2bc0230",
   "metadata": {},
   "outputs": [],
   "source": []
  }
 ],
 "metadata": {
  "kernelspec": {
   "display_name": "Python 3 (ipykernel)",
   "language": "python",
   "name": "python3"
  },
  "language_info": {
   "codemirror_mode": {
    "name": "ipython",
    "version": 3
   },
   "file_extension": ".py",
   "mimetype": "text/x-python",
   "name": "python",
   "nbconvert_exporter": "python",
   "pygments_lexer": "ipython3",
   "version": "3.10.9"
  }
 },
 "nbformat": 4,
 "nbformat_minor": 5
}
